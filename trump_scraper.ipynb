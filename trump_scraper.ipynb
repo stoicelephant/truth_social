{
 "cells": [
  {
   "cell_type": "markdown",
   "id": "10d92c4c",
   "metadata": {},
   "source": [
    "Truth Brush Quick Start "
   ]
  },
  {
   "cell_type": "code",
   "execution_count": 2,
   "id": "4d225918",
   "metadata": {},
   "outputs": [
    {
     "name": "stdout",
     "output_type": "stream",
     "text": [
      "Collecting git+https://github.com/stanfordio/truthbrush.git\n",
      "  Cloning https://github.com/stanfordio/truthbrush.git to /tmp/pip-req-build-_3_g2h_m\n",
      "  Running command git clone --filter=blob:none --quiet https://github.com/stanfordio/truthbrush.git /tmp/pip-req-build-_3_g2h_m\n",
      "  Resolved https://github.com/stanfordio/truthbrush.git to commit 0dd60ea56612de62dfb9adc7a67ead556aa227c6\n",
      "  Installing build dependencies ... \u001b[?25ldone\n",
      "\u001b[?25h  Getting requirements to build wheel ... \u001b[?25ldone\n",
      "\u001b[?25h  Preparing metadata (pyproject.toml) ... \u001b[?25ldone\n",
      "\u001b[?25hRequirement already satisfied: click<9.0.0,>=8.1.0 in ./.venv/lib/python3.11/site-packages (from truthbrush==0.1.10) (8.3.0)\n",
      "Requirement already satisfied: curl_cffi<0.8.0,>=0.7.0 in ./.venv/lib/python3.11/site-packages (from truthbrush==0.1.10) (0.7.4)\n",
      "Requirement already satisfied: loguru<0.8.0,>=0.7.0 in ./.venv/lib/python3.11/site-packages (from truthbrush==0.1.10) (0.7.3)\n",
      "Requirement already satisfied: python-dateutil<3.0.0,>=2.9.0 in ./.venv/lib/python3.11/site-packages (from truthbrush==0.1.10) (2.9.0.post0)\n",
      "Requirement already satisfied: python-dotenv<2.0.0,>=1.0.1 in ./.venv/lib/python3.11/site-packages (from truthbrush==0.1.10) (1.1.1)\n",
      "Requirement already satisfied: cffi>=1.12.0 in ./.venv/lib/python3.11/site-packages (from curl_cffi<0.8.0,>=0.7.0->truthbrush==0.1.10) (2.0.0)\n",
      "Requirement already satisfied: certifi>=2024.2.2 in ./.venv/lib/python3.11/site-packages (from curl_cffi<0.8.0,>=0.7.0->truthbrush==0.1.10) (2025.10.5)\n",
      "Requirement already satisfied: typing-extensions in ./.venv/lib/python3.11/site-packages (from curl_cffi<0.8.0,>=0.7.0->truthbrush==0.1.10) (4.15.0)\n",
      "Requirement already satisfied: six>=1.5 in ./.venv/lib/python3.11/site-packages (from python-dateutil<3.0.0,>=2.9.0->truthbrush==0.1.10) (1.17.0)\n",
      "Requirement already satisfied: pycparser in ./.venv/lib/python3.11/site-packages (from cffi>=1.12.0->curl_cffi<0.8.0,>=0.7.0->truthbrush==0.1.10) (2.23)\n",
      "Note: you may need to restart the kernel to use updated packages.\n"
     ]
    }
   ],
   "source": [
    "pip install git+https://github.com/stanfordio/truthbrush.git"
   ]
  },
  {
   "cell_type": "code",
   "execution_count": 8,
   "id": "2f400b3c",
   "metadata": {},
   "outputs": [],
   "source": [
    "!export TRUTHSOCIAL_USERNAME='idkwhatoput'\n",
    "!export TRUTHSOCIAL_PASSWORD='3A5Jniy$B9VeGxX'\n"
   ]
  },
  {
   "cell_type": "code",
   "execution_count": 4,
   "id": "f5c8b6d3",
   "metadata": {},
   "outputs": [
    {
     "name": "stdout",
     "output_type": "stream",
     "text": [
      "Usage: truthbrush [OPTIONS] COMMAND [ARGS]...\n",
      "\n",
      "  This is an API client for Truth Social.\n",
      "\n",
      "Options:\n",
      "  --help  Show this message and exit.\n",
      "\n",
      "Commands:\n",
      "  ads           Pull ads.\n",
      "  comments      Pull the top_num comments on a post (defaults to all...\n",
      "  groupposts    Pull posts from group timeline\n",
      "  groupsuggest  Pull group suggestions.\n",
      "  grouptags     Pull group tags.\n",
      "  grouptrends   Pull group trends.\n",
      "  likes         Pull the top_num most recent users who liked the post.\n",
      "  search        Search for users, statuses, groups, or hashtags.\n",
      "  statuses      Pull a user's statuses\n",
      "  suggestions   Pull the list of suggested users.\n",
      "  tags          Pull trendy tags.\n",
      "  trends        Pull trendy Truths.\n",
      "  user          Pull a user's metadata.\n"
     ]
    }
   ],
   "source": [
    "!truthbrush --help"
   ]
  },
  {
   "cell_type": "code",
   "execution_count": 9,
   "id": "40db8c19",
   "metadata": {},
   "outputs": [
    {
     "name": "stdout",
     "output_type": "stream",
     "text": [
      "Traceback (most recent call last):\n",
      "  File \"/home/jamesgiuffre/projects/stocks/.venv/bin/truthbrush\", line 8, in <module>\n",
      "    sys.exit(cli())\n",
      "             ^^^^^\n",
      "  File \"/home/jamesgiuffre/projects/stocks/.venv/lib/python3.11/site-packages/click/core.py\", line 1462, in __call__\n",
      "    return self.main(*args, **kwargs)\n",
      "           ^^^^^^^^^^^^^^^^^^^^^^^^^^\n",
      "  File \"/home/jamesgiuffre/projects/stocks/.venv/lib/python3.11/site-packages/click/core.py\", line 1383, in main\n",
      "    rv = self.invoke(ctx)\n",
      "         ^^^^^^^^^^^^^^^^\n",
      "  File \"/home/jamesgiuffre/projects/stocks/.venv/lib/python3.11/site-packages/click/core.py\", line 1850, in invoke\n",
      "    return _process_result(sub_ctx.command.invoke(sub_ctx))\n",
      "                           ^^^^^^^^^^^^^^^^^^^^^^^^^^^^^^^\n",
      "  File \"/home/jamesgiuffre/projects/stocks/.venv/lib/python3.11/site-packages/click/core.py\", line 1246, in invoke\n",
      "    return ctx.invoke(self.callback, **ctx.params)\n",
      "           ^^^^^^^^^^^^^^^^^^^^^^^^^^^^^^^^^^^^^^^\n",
      "  File \"/home/jamesgiuffre/projects/stocks/.venv/lib/python3.11/site-packages/click/core.py\", line 814, in invoke\n",
      "    return callback(*args, **kwargs)\n",
      "           ^^^^^^^^^^^^^^^^^^^^^^^^^\n",
      "  File \"/home/jamesgiuffre/projects/stocks/.venv/lib/python3.11/site-packages/truthbrush/cli.py\", line 39, in tags\n",
      "    print(json.dumps(api.tags()))\n",
      "                     ^^^^^^^^^^\n",
      "  File \"/home/jamesgiuffre/projects/stocks/.venv/lib/python3.11/site-packages/truthbrush/api.py\", line 317, in tags\n",
      "    self.__check_login()\n",
      "  File \"/home/jamesgiuffre/projects/stocks/.venv/lib/python3.11/site-packages/truthbrush/api.py\", line 62, in __check_login\n",
      "    raise LoginErrorException(\"Username is missing.\")\n",
      "truthbrush.api.LoginErrorException: Username is missing.\n"
     ]
    }
   ],
   "source": [
    "!truthbrush tags"
   ]
  }
 ],
 "metadata": {
  "kernelspec": {
   "display_name": ".venv (3.11.2)",
   "language": "python",
   "name": "python3"
  },
  "language_info": {
   "codemirror_mode": {
    "name": "ipython",
    "version": 3
   },
   "file_extension": ".py",
   "mimetype": "text/x-python",
   "name": "python",
   "nbconvert_exporter": "python",
   "pygments_lexer": "ipython3",
   "version": "3.11.2"
  }
 },
 "nbformat": 4,
 "nbformat_minor": 5
}
