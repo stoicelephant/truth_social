{
 "cells": [
  {
   "cell_type": "code",
   "execution_count": 1,
   "id": "dc69a63e",
   "metadata": {},
   "outputs": [
    {
     "name": "stdout",
     "output_type": "stream",
     "text": [
      "Requirement already satisfied: pandas in /home/jamesgiuffre/projects/stocks/env/.venv/lib/python3.11/site-packages (2.3.3)\n",
      "Requirement already satisfied: numpy>=1.23.2 in /home/jamesgiuffre/projects/stocks/env/.venv/lib/python3.11/site-packages (from pandas) (2.3.3)\n",
      "Requirement already satisfied: python-dateutil>=2.8.2 in /home/jamesgiuffre/projects/stocks/env/.venv/lib/python3.11/site-packages (from pandas) (2.9.0.post0)\n",
      "Requirement already satisfied: pytz>=2020.1 in /home/jamesgiuffre/projects/stocks/env/.venv/lib/python3.11/site-packages (from pandas) (2025.2)\n",
      "Requirement already satisfied: tzdata>=2022.7 in /home/jamesgiuffre/projects/stocks/env/.venv/lib/python3.11/site-packages (from pandas) (2025.2)\n",
      "Requirement already satisfied: six>=1.5 in /home/jamesgiuffre/projects/stocks/env/.venv/lib/python3.11/site-packages (from python-dateutil>=2.8.2->pandas) (1.17.0)\n",
      "Requirement already satisfied: loguru in /home/jamesgiuffre/projects/stocks/env/.venv/lib/python3.11/site-packages (0.7.3)\n",
      "Requirement already satisfied: curl_cffi in /home/jamesgiuffre/projects/stocks/env/.venv/lib/python3.11/site-packages (0.13.0)\n",
      "Requirement already satisfied: cffi>=1.12.0 in /home/jamesgiuffre/projects/stocks/env/.venv/lib/python3.11/site-packages (from curl_cffi) (2.0.0)\n",
      "Requirement already satisfied: certifi>=2024.2.2 in /home/jamesgiuffre/projects/stocks/env/.venv/lib/python3.11/site-packages (from curl_cffi) (2025.10.5)\n",
      "Requirement already satisfied: pycparser in /home/jamesgiuffre/projects/stocks/env/.venv/lib/python3.11/site-packages (from cffi>=1.12.0->curl_cffi) (2.23)\n",
      "Requirement already satisfied: dotenv in /home/jamesgiuffre/projects/stocks/env/.venv/lib/python3.11/site-packages (0.9.9)\n",
      "Requirement already satisfied: python-dotenv in /home/jamesgiuffre/projects/stocks/env/.venv/lib/python3.11/site-packages (from dotenv) (1.1.1)\n"
     ]
    }
   ],
   "source": [
    "!pip install pandas\n",
    "!pip install loguru\n",
    "!pip install curl_cffi\n",
    "!pip install dotenv"
   ]
  },
  {
   "cell_type": "code",
   "execution_count": 2,
   "id": "c9f172ab",
   "metadata": {},
   "outputs": [],
   "source": [
    "from datetime import datetime, timezone\n",
    "from api import Api\n",
    "import pandas as pd"
   ]
  },
  {
   "cell_type": "code",
   "execution_count": 3,
   "id": "03826709",
   "metadata": {},
   "outputs": [],
   "source": [
    "api = Api()\n",
    "\n",
    "# dt_p = api.pull_statuses(\n",
    "#     username='realDonaldTrump',\n",
    "#     replies=False,\n",
    "#     verbose=False,\n",
    "#     created_after=datetime(2025,10,12,tzinfo=timezone.utc)\n",
    "# )\n",
    "\n",
    "# for p in dt_p:\n",
    "#     print(p['created_at'])\n",
    "#     content_text= p['content']\n",
    "#     print(content_text)"
   ]
  },
  {
   "cell_type": "code",
   "execution_count": 4,
   "id": "869df481",
   "metadata": {},
   "outputs": [
    {
     "name": "stderr",
     "output_type": "stream",
     "text": [
      "\u001b[32m2025-10-13 20:17:31.417\u001b[0m | \u001b[33m\u001b[1mWARNING \u001b[0m | \u001b[36mapi\u001b[0m:\u001b[36m__check_login\u001b[0m:\u001b[36m66\u001b[0m - \u001b[33m\u001b[1mUsing token PPrZaVSbIXVxvAyUYW8Ij8sX5e-mEQE_adtkDeuABxw\u001b[0m\n"
     ]
    },
    {
     "name": "stdout",
     "output_type": "stream",
     "text": [
      "          0\n",
      "0  Tweet_ID\n",
      "1   Created\n",
      "2      Text\n"
     ]
    }
   ],
   "source": [
    "df = pd.DataFrame(['Tweet_ID','Created','Text'])\n",
    "\n",
    "def get_text_tweets(username:str,created_after:datetime=None):\n",
    "    user_tweets = api.pull_statuses(username,created_after=created_after)\n",
    "    for tweet in user_tweets:\n",
    "        tweet_id = tweet['id']\n",
    "        created_at = tweet['created_at']\n",
    "        content = tweet['content']\n",
    "        # media = tweet['media_attachments']\n",
    "        content = content.strip('</p>')\n",
    "        if content == '': #passing media only tweets \n",
    "            pass\n",
    "        elif content[0:2] == 'RT': # passing retweets \n",
    "            pass\n",
    "        else: \n",
    "            data =  {'Tweet_ID': tweet_id, 'Created': created_at,'Text':content}\n",
    "\n",
    "get_text_tweets('realDonaldTrump', created_after=datetime(2025,10,12,tzinfo=timezone.utc))\n",
    "print(df)"
   ]
  }
 ],
 "metadata": {
  "kernelspec": {
   "display_name": ".venv (3.11.2)",
   "language": "python",
   "name": "python3"
  },
  "language_info": {
   "codemirror_mode": {
    "name": "ipython",
    "version": 3
   },
   "file_extension": ".py",
   "mimetype": "text/x-python",
   "name": "python",
   "nbconvert_exporter": "python",
   "pygments_lexer": "ipython3",
   "version": "3.11.2"
  }
 },
 "nbformat": 4,
 "nbformat_minor": 5
}
