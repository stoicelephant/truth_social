{
 "cells": [
  {
   "cell_type": "code",
   "execution_count": null,
   "id": "dc69a63e",
   "metadata": {},
   "outputs": [
    {
     "name": "stdout",
     "output_type": "stream",
     "text": [
      "Collecting pandas\n",
      "  Using cached pandas-2.3.3-cp311-cp311-manylinux_2_24_x86_64.manylinux_2_28_x86_64.whl (12.8 MB)\n",
      "Collecting numpy>=1.23.2\n",
      "  Using cached numpy-2.3.3-cp311-cp311-manylinux_2_27_x86_64.manylinux_2_28_x86_64.whl (16.9 MB)\n",
      "Requirement already satisfied: python-dateutil>=2.8.2 in /home/jamesgiuffre/projects/stocks/env/.venv/lib/python3.11/site-packages (from pandas) (2.9.0.post0)\n",
      "Collecting pytz>=2020.1\n",
      "  Using cached pytz-2025.2-py2.py3-none-any.whl (509 kB)\n",
      "Collecting tzdata>=2022.7\n",
      "  Using cached tzdata-2025.2-py2.py3-none-any.whl (347 kB)\n",
      "Requirement already satisfied: six>=1.5 in /home/jamesgiuffre/projects/stocks/env/.venv/lib/python3.11/site-packages (from python-dateutil>=2.8.2->pandas) (1.17.0)\n",
      "Installing collected packages: pytz, tzdata, numpy, pandas\n"
     ]
    }
   ],
   "source": [
    "!pip install pandas"
   ]
  },
  {
   "cell_type": "code",
   "execution_count": null,
   "id": "c9f172ab",
   "metadata": {},
   "outputs": [
    {
     "ename": "ModuleNotFoundError",
     "evalue": "No module named 'loguru'",
     "output_type": "error",
     "traceback": [
      "\u001b[31m---------------------------------------------------------------------------\u001b[39m",
      "\u001b[31mModuleNotFoundError\u001b[39m                       Traceback (most recent call last)",
      "\u001b[36mCell\u001b[39m\u001b[36m \u001b[39m\u001b[32mIn[2]\u001b[39m\u001b[32m, line 2\u001b[39m\n\u001b[32m      1\u001b[39m \u001b[38;5;28;01mfrom\u001b[39;00m\u001b[38;5;250m \u001b[39m\u001b[34;01mdatetime\u001b[39;00m\u001b[38;5;250m \u001b[39m\u001b[38;5;28;01mimport\u001b[39;00m datetime, timezone\n\u001b[32m----> \u001b[39m\u001b[32m2\u001b[39m \u001b[38;5;28;01mfrom\u001b[39;00m\u001b[38;5;250m \u001b[39m\u001b[34;01mapi\u001b[39;00m\u001b[38;5;250m \u001b[39m\u001b[38;5;28;01mimport\u001b[39;00m Api\n\u001b[32m      3\u001b[39m \u001b[38;5;28;01mimport\u001b[39;00m\u001b[38;5;250m \u001b[39m\u001b[34;01mpandas\u001b[39;00m\u001b[38;5;250m \u001b[39m\u001b[38;5;28;01mas\u001b[39;00m\u001b[38;5;250m \u001b[39m\u001b[34;01mpd\u001b[39;00m\n",
      "\u001b[36mFile \u001b[39m\u001b[32m~/projects/stocks/truthbrush/truthbrush/api.py:3\u001b[39m\n\u001b[32m      1\u001b[39m \u001b[38;5;28;01mfrom\u001b[39;00m\u001b[38;5;250m \u001b[39m\u001b[34;01mtime\u001b[39;00m\u001b[38;5;250m \u001b[39m\u001b[38;5;28;01mimport\u001b[39;00m sleep\n\u001b[32m      2\u001b[39m \u001b[38;5;28;01mfrom\u001b[39;00m\u001b[38;5;250m \u001b[39m\u001b[34;01mtyping\u001b[39;00m\u001b[38;5;250m \u001b[39m\u001b[38;5;28;01mimport\u001b[39;00m Any, Iterator, List, Optional\n\u001b[32m----> \u001b[39m\u001b[32m3\u001b[39m \u001b[38;5;28;01mfrom\u001b[39;00m\u001b[38;5;250m \u001b[39m\u001b[34;01mloguru\u001b[39;00m\u001b[38;5;250m \u001b[39m\u001b[38;5;28;01mimport\u001b[39;00m logger\n\u001b[32m      4\u001b[39m \u001b[38;5;28;01mfrom\u001b[39;00m\u001b[38;5;250m \u001b[39m\u001b[34;01mdateutil\u001b[39;00m\u001b[38;5;250m \u001b[39m\u001b[38;5;28;01mimport\u001b[39;00m parser \u001b[38;5;28;01mas\u001b[39;00m date_parse\n\u001b[32m      5\u001b[39m \u001b[38;5;28;01mfrom\u001b[39;00m\u001b[38;5;250m \u001b[39m\u001b[34;01mdatetime\u001b[39;00m\u001b[38;5;250m \u001b[39m\u001b[38;5;28;01mimport\u001b[39;00m datetime, timezone, date\n",
      "\u001b[31mModuleNotFoundError\u001b[39m: No module named 'loguru'"
     ]
    }
   ],
   "source": [
    "from datetime import datetime, timezone\n",
    "from api import Api\n",
    "import pandas as pd"
   ]
  },
  {
   "cell_type": "code",
   "execution_count": null,
   "id": "03826709",
   "metadata": {},
   "outputs": [],
   "source": [
    "# api = Api()\n",
    "\n",
    "# dt_p = api.pull_statuses(\n",
    "#     username='realDonaldTrump',\n",
    "#     replies=False,\n",
    "#     verbose=False,\n",
    "#     created_after=datetime(2025,10,12,tzinfo=timezone.utc)\n",
    "# )\n",
    "\n",
    "# for p in dt_p:\n",
    "#     print(p['created_at'])\n",
    "#     content_text= p['content']\n",
    "#     print(content_text)"
   ]
  },
  {
   "cell_type": "code",
   "execution_count": null,
   "id": "869df481",
   "metadata": {},
   "outputs": [
    {
     "name": "stdout",
     "output_type": "stream",
     "text": [
      "115367574318732455\n",
      "Happy 250th Birthday to the United States Navy!\n",
      "115362980326486735\n",
      "a href=\"https://www.foxnews.com/opinion/morning-glory-do-you-like-trump\" rel=\"nofollow noopener noreferrer\" target=\"_blank\"><span class=\"invisible\">https://www.</span><span class=\"ellipsis\">foxnews.com/opinion/morning-gl</span><span class=\"invisible\">ory-do-you-like-trump</span></a\n",
      "115362978954725477\n",
      "Lord Conrad Black: \"Because President Trump did it, there has been little recognition that it is the greatest diplomatic achievement in the Middle East since the founding of the state of Israel and is a gigantic step forward toward peace.\"\n",
      "115362973187528235\n",
      "Throughout most of our History, America’s Colleges and Universities have been a Great Strategic Asset of the United States. Tragically, however, much of Higher Education has lost its way, and is now corrupting our Youth and Society with WOKE, SOCIALIST, and ANTI-AMERICAN Ideology that serves as justification for discriminatory practices by Universities that are Unconstitutional and Unlawful. My Administration is fixing this, and FAST, with our Great Reform Agenda in Higher Education. Our Nation’s Great Institutions will once again prioritize Merit and Hard Work before “group identity,” resulting in tremendous new Research and Opportunity to benefit all Americans, and Equality being honored in American Businesses, Courts, and Culture.</p><p>To those Universities that continue to illegally discriminate based on Race or Sex, we will continue our current efforts to swiftly and forcefully enforce Federal Law. But for those Institutions that want to quickly return to the pursuit of Truth and Achievement, they are invited to enter into a forward looking Agreement with the Federal Government to help bring about the Golden Age of Academic Excellence in Higher Education. They will agree to follow Federal Law, and protect the Civil Rights of ALL Students, Faculty, and Employees on Campuses. They will stop racist Admission Policies, and put an end to unjust and illegal discrimination in Faculty Hiring. These Institutions will commit to High Quality Standards, an Intellectually Open Campus Environment (including the protection of Free Speech and Debate), Institutional Neutrality, major steps toward Affordability for Students, and an end to the entanglement of Foreign Money in the Finances of American Universities. Americans deserve to be treated in accordance with their demonstrated achievements and potential, and upon regaining this fundamentally American Value, our Nation will be unstoppable. We will once again have Universities that develop the talents of our amazing young people to lead lives of Success and Fulfillment, cultivate a Love of Country and a Culture of Achievement, and help make all Americans proud, safe, prosperous, and free!\n",
      "115362196088273474\n",
      "Don’t worry about China, it will all be fine! Highly respected President Xi just had a bad moment. He doesn’t want Depression for his country, and neither do I. The U.S.A. wants to help China, not hurt it!!!  President DJT\n",
      "115361806192142146\n",
      "The Ukraine Impeachment (of me!) Scam was a far bigger Illegal Hoax than Watergate. I sincerely hope the necessary authorities, including CONGRESS, are looking into this! Adam “Schiffty” Schiff was sooo dishonest and corrupt. So many laws, and protocols, were violated, and just plain broken!!! President DJT\n",
      "115361566788534006\n",
      "a href=\"https://www.foxnews.com/opinion/gregg-jarrett-great-comey-con-how-saint-james-plans-put-trump-trial-instead\" rel=\"nofollow noopener noreferrer\" target=\"_blank\"><span class=\"invisible\">https://www.</span><span class=\"ellipsis\">foxnews.com/opinion/gregg-jarr</span><span class=\"invisible\">ett-great-comey-con-how-saint-james-plans-put-trump-trial-instead</span></a\n",
      "115359345947837427\n",
      "THE BIDEN FBI PLACED 274 AGENTS INTO THE CROWD ON JANUARY 6. If this is so, which it is, a lot of very good people will be owed big apologies. What a SCAM - DO SOMETHING!!! President DJT\n",
      "115359298785234325\n",
      "I am pleased to announce that the great Dan Scavino, in addition to remaining Deputy Chief of Staff of the Trump Administration, will head the White House Presidential Personnel Office, replacing Sergio Gor, who did a wonderful job in that position, and will now become the Ambassador to India. Dan will be responsible for the selection and appointment of almost all positions in government, a very big and important position. Congratulations Dan, you will do a fantastic job!!! President DJT\n",
      "115359097815090250\n",
      "Great job by super lawyer Bill Brennan on Fake News CNN. He took the third rate “anchor” apart when discussing the legal merit of various cases. They probably won’t have him back again. Total losers!!!\n"
     ]
    }
   ],
   "source": [
    "\n",
    "\n",
    "def get_text_tweets(username:str,created_after:datetime=None):\n",
    "    user_tweets = api.pull_statuses(username,created_after=created_after)\n",
    "    for tweet in user_tweets:\n",
    "        tweet_id = tweet['id']\n",
    "        created_at = tweet['created_at']\n",
    "        content = tweet['content']\n",
    "        media = tweet['media_attachments']\n",
    "        content = content.strip('</p>')\n",
    "        if content == '': #passing media only tweets \n",
    "            pass\n",
    "        elif content[0:2] == 'RT': # passing retweets \n",
    "            pass\n",
    "        else: \n",
    "            return {'Tweet_ID': tweet_id, 'Created': created_at,}\n",
    "            print(tweet_id)\n",
    "            print(content)\n",
    "\n",
    "\n",
    "# def get_text_media_tweets(username:str,created_after:datetime=None):\n",
    "#     user_tweets = api.pull_statuses(username,created_after=created_after)\n",
    "#     for tweet in user_tweets:\n",
    "#         tweet_id = tweet['id']\n",
    "#         created_at = tweet['created_at']\n",
    "#         content = tweet['content']\n",
    "#         media = tweet['media_attachments']\n",
    "\n",
    "\n",
    "get_text_tweets('realDonaldTrump',datetime(2025,10,12,tzinfo=timezone.utc))"
   ]
  }
 ],
 "metadata": {
  "kernelspec": {
   "display_name": ".venv (3.11.2)",
   "language": "python",
   "name": "python3"
  },
  "language_info": {
   "codemirror_mode": {
    "name": "ipython",
    "version": 3
   },
   "file_extension": ".py",
   "mimetype": "text/x-python",
   "name": "python",
   "nbconvert_exporter": "python",
   "pygments_lexer": "ipython3",
   "version": "3.11.2"
  }
 },
 "nbformat": 4,
 "nbformat_minor": 5
}
